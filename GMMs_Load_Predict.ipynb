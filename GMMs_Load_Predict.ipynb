{
 "cells": [
  {
   "cell_type": "markdown",
   "id": "5b7a4f73-4735-4b33-9edf-df13996fdfff",
   "metadata": {},
   "source": [
    "# ANN"
   ]
  },
  {
   "cell_type": "code",
   "execution_count": null,
   "id": "2bef15d3-96cb-40e0-9680-22f356a46cb5",
   "metadata": {},
   "outputs": [],
   "source": [
    "import numpy as np\n",
    "import joblib\n",
    "from tensorflow.keras.models import load_model\n",
    "from tensorflow.keras.losses import MeanSquaredError\n",
    "from tensorflow.keras.metrics import MeanAbsoluteError, MeanSquaredError as MSE\n",
    "\n",
    "# Step 1: Load the model with proper mappings\n",
    "model = load_model('V_ANN_model.h5', custom_objects={\n",
    "    'mse': MeanSquaredError(),\n",
    "    'mae': MeanAbsoluteError()\n",
    "})\n",
    "\n",
    "# Step 2: Load the scaler\n",
    "scaler = joblib.load('V_ANN_scaler.pkl')\n",
    "\n",
    "# Step 3: Define input values\n",
    "magnitude = 4.06\n",
    "distance = 35.7 #hypocentral distance in km\n",
    "vs30 = 250 #m/s\n",
    "\n",
    "# Step 4: Format and scale input\n",
    "input_features = np.array([[magnitude, distance, vs30]])\n",
    "input_scaled = scaler.transform(input_features)\n",
    "\n",
    "# Step 5: Predict PGA\n",
    "predicted_pga = model.predict(input_scaled).flatten()[0]\n",
    "\n",
    "# Step 6: Output\n",
    "print(f\"Predicted PGA (g) for M={magnitude}, r={distance} km, Vs30={vs30} m/s: {predicted_pga:.4f}\")\n"
   ]
  },
  {
   "cell_type": "markdown",
   "id": "1439fed4-0a40-478a-bff9-fb1561fb7346",
   "metadata": {},
   "source": [
    "# RF"
   ]
  },
  {
   "cell_type": "code",
   "execution_count": null,
   "id": "a1f26ba7-2572-423b-9bb4-97ab46180383",
   "metadata": {},
   "outputs": [],
   "source": [
    "import numpy as np\n",
    "import joblib\n",
    "\n",
    "# Step 1: Load the trained RF model and the corresponding scaler\n",
    "rf_model = joblib.load('V_RF_model.pkl')           # Load the trained Random Forest model\n",
    "scaler = joblib.load('V_RF_scaler.pkl')            # Load the scaler used to normalize features during training\n",
    "\n",
    "# Step 2: Define input parameters for prediction\n",
    "# Replace these with values specific to your prediction scenario\n",
    "magnitude = 4.06        # Earthquake magnitude (Mw)\n",
    "distance = 35.7         # Hypocentral distance (km)\n",
    "vs30 = 250              # Vs30 value (m/s) of the site\n",
    "\n",
    "# Step 3: Format the input as a 2D array and apply the same scaling\n",
    "input_data = np.array([[magnitude, distance, vs30]])    # Must be 2D array shape: (1, 3)\n",
    "input_scaled = scaler.transform(input_data)             # Apply the previously fitted scaler\n",
    "\n",
    "# Step 4: Predict the log(PGA) using the trained RF model\n",
    "predicted_log_pga = rf_model.predict(input_scaled)      # Predict log-transformed PGA\n",
    "\n",
    "# Step 5: Convert log(PGA) back to original scale (cm/s²)\n",
    "predicted_pga = np.exp(predicted_log_pga)[0]            # Exponentiate and extract scalar value\n",
    "\n",
    "# Step 6: Print the prediction\n",
    "print(f\"Predicted PGA (g) for M={magnitude}, r={distance} km, Vs30={vs30} m/s: {predicted_pga:.4f}\")\n"
   ]
  },
  {
   "cell_type": "markdown",
   "id": "0bbd277f-820a-4115-8952-c4f512028daa",
   "metadata": {},
   "source": [
    "# SVM"
   ]
  },
  {
   "cell_type": "code",
   "execution_count": null,
   "id": "4d15d10e-cd75-40c5-af64-a2bd3561f533",
   "metadata": {},
   "outputs": [],
   "source": [
    "import numpy as np\n",
    "import joblib\n",
    "\n",
    "# Step 1: Load trained SVR model and the scaler used during training\n",
    "svr_model = joblib.load('V_SVR_model.pkl')        # Load the trained Support Vector Regressor\n",
    "scaler = joblib.load('V_SVR_scaler.pkl')          # Load the feature scaler\n",
    "\n",
    "# Step 2: Define new input values for prediction\n",
    "# Replace with your desired values for prediction\n",
    "magnitude = 4.06           # Earthquake magnitude (Mw)\n",
    "distance = 35.7            # Hypocentral distance (km)\n",
    "vs30 = 250                 # Vs30 value (m/s)\n",
    "\n",
    "# Step 3: Prepare and scale input features\n",
    "input_data = np.array([[magnitude, distance, vs30]])  # Input must be 2D array\n",
    "input_scaled = scaler.transform(input_data)           # Use the same scaler used during training\n",
    "\n",
    "# Step 4: Predict log(PGA), then inverse transform to get PGA in cm/s²\n",
    "predicted_log_pga = svr_model.predict(input_scaled)\n",
    "predicted_pga = np.exp(predicted_log_pga)[0]          # Convert log(PGA) to PGA and extract scalar\n",
    "\n",
    "# Step 5: Display result\n",
    "print(f\"Predicted PGA (g) for M={magnitude}, r={distance} km, Vs30={vs30} m/s: {predicted_pga:.4f}\")\n"
   ]
  },
  {
   "cell_type": "markdown",
   "id": "e46cc8c2-0157-4b47-87b1-6b6c8c3bd846",
   "metadata": {},
   "source": [
    "# XGBoost"
   ]
  },
  {
   "cell_type": "code",
   "execution_count": null,
   "id": "9c21cc70-0668-4eee-b4d2-9a3cd513ec02",
   "metadata": {},
   "outputs": [],
   "source": [
    "import numpy as np\n",
    "import joblib\n",
    "\n",
    "# Step 1: Load the trained XGBoost model and the scaler\n",
    "xgb_model = joblib.load('V_XGB_model.pkl')       # Load trained XGBoost model\n",
    "scaler = joblib.load('V_XGB_scaler.pkl')         # Load scaler used during training\n",
    "\n",
    "# Step 2: Define input parameters for prediction\n",
    "magnitude = 4.06     # Example magnitude (Mw)\n",
    "distance = 35.7      # Hypocentral distance in km\n",
    "vs30 = 250           # Vs30 value in m/s\n",
    "\n",
    "# Step 3: Prepare and scale input features\n",
    "input_features = np.array([[magnitude, distance, vs30]])  # Input must be 2D array\n",
    "input_scaled = scaler.transform(input_features)           # Apply same scaling as training\n",
    "\n",
    "# Step 4: Predict log(PGA) and convert to PGA in cm/s²\n",
    "predicted_log_pga = xgb_model.predict(input_scaled)\n",
    "predicted_pga = np.exp(predicted_log_pga)[0]              # Inverse log-transform\n",
    "\n",
    "# Step 5: Display result\n",
    "print(f\"Predicted PGA (g) for M={magnitude}, r={distance} km, Vs30={vs30} m/s: {predicted_pga:.4f}\")\n"
   ]
  }
 ],
 "metadata": {
  "kernelspec": {
   "display_name": "Python 3 (ipykernel)",
   "language": "python",
   "name": "python3"
  },
  "language_info": {
   "codemirror_mode": {
    "name": "ipython",
    "version": 3
   },
   "file_extension": ".py",
   "mimetype": "text/x-python",
   "name": "python",
   "nbconvert_exporter": "python",
   "pygments_lexer": "ipython3",
   "version": "3.10.13"
  }
 },
 "nbformat": 4,
 "nbformat_minor": 5
}
